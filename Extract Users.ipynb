{
 "cells": [
  {
   "cell_type": "code",
   "execution_count": 31,
   "metadata": {
    "collapsed": true
   },
   "outputs": [],
   "source": [
    "import pandas as pd"
   ]
  },
  {
   "cell_type": "code",
   "execution_count": 32,
   "metadata": {
    "collapsed": true
   },
   "outputs": [],
   "source": [
    "df = pd.read_csv(\"customers.csv\")"
   ]
  },
  {
   "cell_type": "code",
   "execution_count": 33,
   "metadata": {
    "collapsed": false
   },
   "outputs": [
    {
     "data": {
      "text/html": [
       "<div>\n",
       "<table border=\"1\" class=\"dataframe\">\n",
       "  <thead>\n",
       "    <tr style=\"text-align: right;\">\n",
       "      <th></th>\n",
       "      <th>email</th>\n",
       "      <th>_website</th>\n",
       "      <th>_store</th>\n",
       "      <th>confirmation</th>\n",
       "      <th>created_at</th>\n",
       "      <th>created_in</th>\n",
       "      <th>disable_auto_group_change</th>\n",
       "      <th>dob</th>\n",
       "      <th>firstname</th>\n",
       "      <th>gender</th>\n",
       "      <th>...</th>\n",
       "      <th>password_hash</th>\n",
       "      <th>prefix</th>\n",
       "      <th>rp_token</th>\n",
       "      <th>rp_token_created_at</th>\n",
       "      <th>store_id</th>\n",
       "      <th>suffix</th>\n",
       "      <th>taxvat</th>\n",
       "      <th>updated_at</th>\n",
       "      <th>website_id</th>\n",
       "      <th>password</th>\n",
       "    </tr>\n",
       "  </thead>\n",
       "  <tbody>\n",
       "    <tr>\n",
       "      <th>0</th>\n",
       "      <td>roni_cost@example.com</td>\n",
       "      <td>base</td>\n",
       "      <td>default</td>\n",
       "      <td>NaN</td>\n",
       "      <td>2016-06-18 07:37:41</td>\n",
       "      <td>Default Store View</td>\n",
       "      <td>0</td>\n",
       "      <td>NaN</td>\n",
       "      <td>Veronica</td>\n",
       "      <td>0</td>\n",
       "      <td>...</td>\n",
       "      <td>40e3cb67a7304e4edc3cb878b8a3d22f92dbf16ad94487...</td>\n",
       "      <td>NaN</td>\n",
       "      <td>c0e19395db4a40469fdea8a06cac03c5</td>\n",
       "      <td>2016-06-18 07:37:42</td>\n",
       "      <td>1</td>\n",
       "      <td>NaN</td>\n",
       "      <td>NaN</td>\n",
       "      <td>2016-06-18 07:46:04</td>\n",
       "      <td>1</td>\n",
       "      <td>NaN</td>\n",
       "    </tr>\n",
       "    <tr>\n",
       "      <th>1</th>\n",
       "      <td>soodip.kafle1@gmail.com</td>\n",
       "      <td>base</td>\n",
       "      <td>default</td>\n",
       "      <td>NaN</td>\n",
       "      <td>2016-06-22 18:14:21</td>\n",
       "      <td>Default Store View</td>\n",
       "      <td>0</td>\n",
       "      <td>NaN</td>\n",
       "      <td>Sudip</td>\n",
       "      <td>NaN</td>\n",
       "      <td>...</td>\n",
       "      <td>e5fff6614e0bd222032fc1674f9e38a9fd2a8f9b19000e...</td>\n",
       "      <td>NaN</td>\n",
       "      <td>e44127427060030b8b68f50151f6c982</td>\n",
       "      <td>2016-06-22 18:14:23</td>\n",
       "      <td>1</td>\n",
       "      <td>NaN</td>\n",
       "      <td>NaN</td>\n",
       "      <td>2016-06-22 18:14:23</td>\n",
       "      <td>1</td>\n",
       "      <td>NaN</td>\n",
       "    </tr>\n",
       "    <tr>\n",
       "      <th>2</th>\n",
       "      <td>soozankaphle@gmail.com</td>\n",
       "      <td>base</td>\n",
       "      <td>default</td>\n",
       "      <td>NaN</td>\n",
       "      <td>2016-06-22 18:15:41</td>\n",
       "      <td>Default Store View</td>\n",
       "      <td>0</td>\n",
       "      <td>NaN</td>\n",
       "      <td>Sujan</td>\n",
       "      <td>NaN</td>\n",
       "      <td>...</td>\n",
       "      <td>5ecfa6edb8ce066aea087dd9efa73195943c587d1736c9...</td>\n",
       "      <td>NaN</td>\n",
       "      <td>8a1ba8c401d3f909ea87eaee54751aec</td>\n",
       "      <td>2016-06-22 18:15:43</td>\n",
       "      <td>1</td>\n",
       "      <td>NaN</td>\n",
       "      <td>NaN</td>\n",
       "      <td>2016-06-22 18:15:43</td>\n",
       "      <td>1</td>\n",
       "      <td>NaN</td>\n",
       "    </tr>\n",
       "  </tbody>\n",
       "</table>\n",
       "<p>3 rows × 23 columns</p>\n",
       "</div>"
      ],
      "text/plain": [
       "                     email _website   _store  confirmation  \\\n",
       "0    roni_cost@example.com     base  default           NaN   \n",
       "1  soodip.kafle1@gmail.com     base  default           NaN   \n",
       "2   soozankaphle@gmail.com     base  default           NaN   \n",
       "\n",
       "            created_at          created_in  disable_auto_group_change  dob  \\\n",
       "0  2016-06-18 07:37:41  Default Store View                          0  NaN   \n",
       "1  2016-06-22 18:14:21  Default Store View                          0  NaN   \n",
       "2  2016-06-22 18:15:41  Default Store View                          0  NaN   \n",
       "\n",
       "  firstname  gender    ...     \\\n",
       "0  Veronica       0    ...      \n",
       "1     Sudip     NaN    ...      \n",
       "2     Sujan     NaN    ...      \n",
       "\n",
       "                                       password_hash prefix  \\\n",
       "0  40e3cb67a7304e4edc3cb878b8a3d22f92dbf16ad94487...    NaN   \n",
       "1  e5fff6614e0bd222032fc1674f9e38a9fd2a8f9b19000e...    NaN   \n",
       "2  5ecfa6edb8ce066aea087dd9efa73195943c587d1736c9...    NaN   \n",
       "\n",
       "                           rp_token  rp_token_created_at  store_id suffix  \\\n",
       "0  c0e19395db4a40469fdea8a06cac03c5  2016-06-18 07:37:42         1    NaN   \n",
       "1  e44127427060030b8b68f50151f6c982  2016-06-22 18:14:23         1    NaN   \n",
       "2  8a1ba8c401d3f909ea87eaee54751aec  2016-06-22 18:15:43         1    NaN   \n",
       "\n",
       "  taxvat           updated_at  website_id  password  \n",
       "0    NaN  2016-06-18 07:46:04           1       NaN  \n",
       "1    NaN  2016-06-22 18:14:23           1       NaN  \n",
       "2    NaN  2016-06-22 18:15:43           1       NaN  \n",
       "\n",
       "[3 rows x 23 columns]"
      ]
     },
     "execution_count": 33,
     "metadata": {},
     "output_type": "execute_result"
    }
   ],
   "source": [
    "df.head()"
   ]
  },
  {
   "cell_type": "code",
   "execution_count": 34,
   "metadata": {
    "collapsed": false
   },
   "outputs": [
    {
     "data": {
      "text/plain": [
       "[{'email': 'roni_cost@example.com',\n",
       "  'firstname': 'Veronica',\n",
       "  'lastname': 'Costello',\n",
       "  'middlename': '',\n",
       "  'password_hash': '40e3cb67a7304e4edc3cb878b8a3d22f92dbf16ad9448709fa6fc12961198a93:vCS4lPmKJbC4NdpmfAdzaLKSFzlDYGZS:1'},\n",
       " {'email': 'soodip.kafle1@gmail.com',\n",
       "  'firstname': 'Sudip',\n",
       "  'lastname': 'Kafle',\n",
       "  'middlename': '',\n",
       "  'password_hash': 'e5fff6614e0bd222032fc1674f9e38a9fd2a8f9b19000e93f95d0562a2c6b288:whvVYDtNi8KHgD1lCt3yerC7ZeNfGvAp:1'},\n",
       " {'email': 'soozankaphle@gmail.com',\n",
       "  'firstname': 'Sujan',\n",
       "  'lastname': 'Kafle',\n",
       "  'middlename': '',\n",
       "  'password_hash': '5ecfa6edb8ce066aea087dd9efa73195943c587d1736c9dea644898d325a69c4:hwYC8D5yeHKFXEwaeXZVf7tfhrUiXe2t:1'}]"
      ]
     },
     "execution_count": 34,
     "metadata": {},
     "output_type": "execute_result"
    }
   ],
   "source": [
    "required_fields = ['email', 'firstname', 'middlename', 'lastname', 'password_hash' ]\n",
    "users = df[required_fields].fillna(\"\").to_dict(orient='records')\n",
    "users"
   ]
  },
  {
   "cell_type": "markdown",
   "metadata": {},
   "source": [
    "## Lets generate fixtures based on users"
   ]
  },
  {
   "cell_type": "code",
   "execution_count": 35,
   "metadata": {
    "collapsed": true
   },
   "outputs": [],
   "source": [
    "all_users = []\n",
    "user_count = 1"
   ]
  },
  {
   "cell_type": "code",
   "execution_count": 36,
   "metadata": {
    "collapsed": false
   },
   "outputs": [],
   "source": [
    "for user in users:\n",
    "    all_users.append(\n",
    "        {\n",
    "            \"model\": \"users.user\",\n",
    "            \"pk\": user_count,\n",
    "            \"fields\": {\n",
    "                \"name\": \" \".join([user['firstname'], user['middlename'], user['lastname']]).replace(\"  \", \" \"),\n",
    "                \"email\": user['email'],\n",
    "                \"password\": user['password_hash'],\n",
    "                \"username\": user['firstname'] + str(user_count)\n",
    "            }\n",
    "        }\n",
    "    )\n",
    "    user_count += 1"
   ]
  },
  {
   "cell_type": "code",
   "execution_count": 37,
   "metadata": {
    "collapsed": false
   },
   "outputs": [
    {
     "data": {
      "text/plain": [
       "[{'fields': {'email': 'roni_cost@example.com',\n",
       "   'name': 'Veronica Costello',\n",
       "   'password': '40e3cb67a7304e4edc3cb878b8a3d22f92dbf16ad9448709fa6fc12961198a93:vCS4lPmKJbC4NdpmfAdzaLKSFzlDYGZS:1',\n",
       "   'username': 'Veronica1'},\n",
       "  'model': 'users.user',\n",
       "  'pk': 1},\n",
       " {'fields': {'email': 'soodip.kafle1@gmail.com',\n",
       "   'name': 'Sudip Kafle',\n",
       "   'password': 'e5fff6614e0bd222032fc1674f9e38a9fd2a8f9b19000e93f95d0562a2c6b288:whvVYDtNi8KHgD1lCt3yerC7ZeNfGvAp:1',\n",
       "   'username': 'Sudip2'},\n",
       "  'model': 'users.user',\n",
       "  'pk': 2},\n",
       " {'fields': {'email': 'soozankaphle@gmail.com',\n",
       "   'name': 'Sujan Kafle',\n",
       "   'password': '5ecfa6edb8ce066aea087dd9efa73195943c587d1736c9dea644898d325a69c4:hwYC8D5yeHKFXEwaeXZVf7tfhrUiXe2t:1',\n",
       "   'username': 'Sujan3'},\n",
       "  'model': 'users.user',\n",
       "  'pk': 3}]"
      ]
     },
     "execution_count": 37,
     "metadata": {},
     "output_type": "execute_result"
    }
   ],
   "source": [
    "all_users"
   ]
  },
  {
   "cell_type": "code",
   "execution_count": 38,
   "metadata": {
    "collapsed": false
   },
   "outputs": [],
   "source": [
    "import json\n",
    "with open('user_fixtures.json', 'w') as outfile:\n",
    "    json.dump(all_users, outfile)"
   ]
  },
  {
   "cell_type": "code",
   "execution_count": null,
   "metadata": {
    "collapsed": true
   },
   "outputs": [],
   "source": []
  }
 ],
 "metadata": {
  "kernelspec": {
   "display_name": "Python 2",
   "language": "python",
   "name": "python2"
  },
  "language_info": {
   "codemirror_mode": {
    "name": "ipython",
    "version": 2
   },
   "file_extension": ".py",
   "mimetype": "text/x-python",
   "name": "python",
   "nbconvert_exporter": "python",
   "pygments_lexer": "ipython2",
   "version": "2.7.6"
  }
 },
 "nbformat": 4,
 "nbformat_minor": 0
}
